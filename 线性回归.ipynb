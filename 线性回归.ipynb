{
 "cells": [
  {
   "cell_type": "markdown",
   "metadata": {},
   "source": [
    "## 房价预测：用面积（平方米）和房龄（年）预测房价，假设输出与输入是线性关系"
   ]
  },
  {
   "cell_type": "markdown",
   "metadata": {},
   "source": [
    "### 生成数据集"
   ]
  },
  {
   "cell_type": "code",
   "execution_count": 48,
   "metadata": {
    "collapsed": false
   },
   "outputs": [],
   "source": [
    "import torch\n",
    "import numpy as np\n",
    "num_samples = 1000 # 特征数\n",
    "num_inputs = 2 # 样本数\n",
    "true_w = [2, -3.4]\n",
    "true_b = 4.2\n",
    "\n",
    "features = torch.randn(num_samples, num_inputs, dtype = torch.float32)\n",
    "labels = features[:, 0] * true_w[0] + features[:, 1] *true_w[1] + true_b\n",
    "labels += torch.tensor(np.random.normal(0, 0.01, size = labels.size()), dtype = torch.float32)"
   ]
  },
  {
   "cell_type": "markdown",
   "metadata": {},
   "source": [
    "### 展示数据集"
   ]
  },
  {
   "cell_type": "code",
   "execution_count": 53,
   "metadata": {
    "collapsed": false
   },
   "outputs": [
    {
     "data": {
      "image/png": "[encoded data removed]",
      "text/plain": [
       "<matplotlib.figure.Figure at 0x11aee40f0>"
      ]
     },
     "metadata": {},
     "output_type": "display_data"
    }
   ],
   "source": [
    "import matplotlib.pyplot as plt\n",
    "plt.scatter(features[:, 1].numpy(), labels.numpy(), 1)\n",
    "plt.scatter(features[:, 0].numpy(), labels.numpy(), 1)\n",
    "plt.show()"
   ]
  },
  {
   "cell_type": "markdown",
   "metadata": {},
   "source": [
    "### 读取数据集"
   ]
  },
  {
   "cell_type": "code",
   "execution_count": 54,
   "metadata": {
    "collapsed": true
   },
   "outputs": [],
   "source": [
    "import torch.utils.data as Data\n",
    "batch_size = 10\n",
    "dataset = Data.TensorDataset(features, labels)\n",
    "data_iter = Data.DataLoader(dataset, batch_size = batch_size, shuffle = True, num_workers = 2)"
   ]
  },
  {
   "cell_type": "markdown",
   "metadata": {},
   "source": [
    "### 定义模型"
   ]
  },
  {
   "cell_type": "code",
   "execution_count": 78,
   "metadata": {
    "collapsed": false
   },
   "outputs": [
    {
     "name": "stdout",
     "output_type": "stream",
     "text": [
      "LinearNet(\n",
      "  (linear): Linear(in_features=2, out_features=1, bias=True)\n",
      ")\n",
      "<generator object Module.parameters at 0x11b127938>\n"
     ]
    }
   ],
   "source": [
    "import torch.nn as nn\n",
    "class LinearNet(nn.Module):\n",
    "    def __init__(self, n_features):\n",
    "        super(LinearNet, self).__init__()\n",
    "        self.linear = nn.Linear(n_features, 1)\n",
    "        \n",
    "    def forward(self, x):\n",
    "        y = self.linear(x)\n",
    "        return y\n",
    "net = LinearNet(num_inputs)\n",
    "\n",
    "print(net)\n",
    "print(net.parameters())"
   ]
  },
  {
   "cell_type": "markdown",
   "metadata": {},
   "source": [
    "### 初始化模型参数"
   ]
  },
  {
   "cell_type": "code",
   "execution_count": 71,
   "metadata": {
    "collapsed": false
   },
   "outputs": [
    {
     "data": {
      "text/plain": [
       "Parameter containing:\n",
       "tensor([ 0.1000])"
      ]
     },
     "execution_count": 71,
     "metadata": {},
     "output_type": "execute_result"
    }
   ],
   "source": [
    "nn.init.xavier_uniform_(net.linear.weight)\n",
    "nn.init.constant_(net.linear.bias, 0.1)"
   ]
  },
  {
   "cell_type": "markdown",
   "metadata": {},
   "source": [
    "### 训练"
   ]
  },
  {
   "cell_type": "code",
   "execution_count": 91,
   "metadata": {
    "collapsed": false
   },
   "outputs": [
    {
     "name": "stdout",
     "output_type": "stream",
     "text": [
      "epoch 1, loss: 0.000123\n",
      "epoch 2, loss: 0.000144\n",
      "epoch 3, loss: 0.000182\n",
      "epoch 4, loss: 0.000118\n",
      "epoch 5, loss: 0.000362\n",
      "[2, -3.4] tensor([[ 2.0014, -3.3933]])\n",
      "4.2 tensor([ 4.2015])\n"
     ]
    }
   ],
   "source": [
    "import torch.optim as optim\n",
    "loss = nn.MSELoss()\n",
    "optimizer = optim.Adam(net.parameters(), lr = 0.01)\n",
    "num_epoches = 5\n",
    "for epoch in range(1, num_epoches + 1):\n",
    "    for X, y in data_iter:\n",
    "        y_hat = net.forward(X)\n",
    "        L = loss(y_hat, y.view(-1, 1))\n",
    "        net.zero_grad()\n",
    "        L.backward()\n",
    "        optimizer.step()\n",
    "    print('epoch %d, loss: %f' %(epoch, L.item()))\n",
    "\n",
    "print(true_w, net.linear.weight.data)\n",
    "print(true_b, net.linear.bias.data)\n"
   ]
  },
  {
   "cell_type": "code",
   "execution_count": null,
   "metadata": {
    "collapsed": true
   },
   "outputs": [],
   "source": []
  }
 ],
 "metadata": {
  "anaconda-cloud": {},
  "kernelspec": {
   "display_name": "Python [conda env:anaconda]",
   "language": "python",
   "name": "conda-env-anaconda-py"
  },
  "language_info": {
   "codemirror_mode": {
    "name": "ipython",
    "version": 3
   },
   "file_extension": ".py",
   "mimetype": "text/x-python",
   "name": "python",
   "nbconvert_exporter": "python",
   "pygments_lexer": "ipython3",
   "version": "3.5.2"
  }
 },
 "nbformat": 4,
 "nbformat_minor": 2
}
